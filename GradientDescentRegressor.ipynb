{
 "cells": [
  {
   "cell_type": "code",
   "execution_count": 1,
   "metadata": {
    "ExecuteTime": {
     "end_time": "2021-03-23T22:46:22.430471Z",
     "start_time": "2021-03-23T22:46:21.163941Z"
    }
   },
   "outputs": [],
   "source": [
    "import numpy as np\n",
    "import pandas as pd\n",
    "from scipy.spatial import distance\n",
    "import matplotlib.pyplot as plt\n",
    "%matplotlib inline"
   ]
  },
  {
   "cell_type": "code",
   "execution_count": 2,
   "metadata": {
    "ExecuteTime": {
     "end_time": "2021-03-23T22:46:22.717380Z",
     "start_time": "2021-03-23T22:46:22.435472Z"
    }
   },
   "outputs": [
    {
     "data": {
      "image/png": "[encoded data removed]",
      "text/plain": [
       "<Figure size 432x288 with 1 Axes>"
      ]
     },
     "metadata": {
      "needs_background": "light"
     },
     "output_type": "display_data"
    }
   ],
   "source": [
    "df = pd.read_csv('non_linear.csv')\n",
    "df = df[(df.x_train >1) & (df.x_train <5)].copy()\n",
    "\n",
    "plt.scatter(df.x_train, df.y_train, 50, 'b', 'o')\n",
    "plt.show()"
   ]
  },
  {
   "cell_type": "code",
   "execution_count": null,
   "metadata": {
    "ExecuteTime": {
     "end_time": "2021-03-23T21:30:51.922142Z",
     "start_time": "2021-03-23T21:30:51.698281Z"
    }
   },
   "outputs": [],
   "source": []
  },
  {
   "cell_type": "markdown",
   "metadata": {},
   "source": [
    "The \"small steps\" by which we move to the optimal solution looks like:\n",
    "\n",
    "$$\n",
    "w^{k+1} = w^k - \\eta\\nabla L(w)\n",
    "$$\n",
    "\n",
    "$\\eta$ - step of gradient descent\n",
    "\n",
    "$\\nabla L(w)$  - vector gradient of function\n"
   ]
  },
  {
   "cell_type": "markdown",
   "metadata": {},
   "source": [
    "Algoritm of gradient deascent:\n",
    "\n",
    "1. Starting the algorithm at a random point $w^0$\n",
    "2. Calculate the direction of the antigradient $-f'(x^0)$\n",
    "\n",
    "\n",
    "$$\n",
    "\\left\\{\n",
    "\\begin{array}{cc}\n",
    "\\frac{\\partial L}{\\partial w_0} = 2\\cdot(-1)\\cdot1\\cdot (y_1 - (w_0x_0^1 + \\ldots+w_mx_m^1)) &\\\\\n",
    "\\frac{\\partial L}{\\partial w_k} = 2\\cdot(-1)\\cdot x_1^1 \\cdot (y_1 - (w_0x_0^1 + \\ldots+w_mx_m^1)) &  k\\neq 0\\\\\n",
    "\\end{array}\n",
    "\\right.\n",
    "$$\n",
    "\n",
    "3. Moving in the direction of the next gradient point $w^1 = w^0 - \\eta f'(w^0)$\n",
    "4. Repeating steps 2 and 3 until we reach optimal decision"
   ]
  },
  {
   "cell_type": "code",
   "execution_count": 3,
   "metadata": {
    "ExecuteTime": {
     "end_time": "2021-03-23T22:46:22.748361Z",
     "start_time": "2021-03-23T22:46:22.722378Z"
    }
   },
   "outputs": [],
   "source": [
    "def gradient(X, y, w): # calculating the gradient\n",
    "    n = X.shape[0] # counting the number of elements in the training set\n",
    "    y_pred = X.dot(w.T) # find the predicted values\n",
    "    error = y - y_pred # calculatin the error\n",
    "    grad = np.multiply(X, error).sum(axis=0)*(-1.0)*2.0/n \n",
    "    # we calculate the gradient (by the formula above \n",
    "    # we multiply each of the coordinates by the error)\n",
    "    # and also add the regularization coefficient alpha multiplied by the vector of weights\n",
    "    return grad, error"
   ]
  },
  {
   "cell_type": "code",
   "execution_count": 4,
   "metadata": {
    "ExecuteTime": {
     "end_time": "2021-03-23T22:46:22.844217Z",
     "start_time": "2021-03-23T22:46:22.752359Z"
    }
   },
   "outputs": [],
   "source": [
    "def gradient_step(X, y, w_current, eta): #function that makes a step of gradient descent\n",
    "    grad, error = gradient (X, y, w_current) # counting the error and gradient\n",
    "    w_next = w_current - eta * grad #then we make a step of gradient descent\n",
    "    weight_evolution = distance.euclidean(w_current, w_next) # checking the Euclidean distance between the vectors\n",
    "    return (w_next, weight_evolution, grad)"
   ]
  },
  {
   "cell_type": "code",
   "execution_count": 5,
   "metadata": {
    "ExecuteTime": {
     "end_time": "2021-03-23T22:46:22.955958Z",
     "start_time": "2021-03-23T22:46:22.847693Z"
    }
   },
   "outputs": [],
   "source": [
    "def gradient_descent(X, y, eta=0.01, epsilon=0.0001):\n",
    "    m = X.shape[1] # counting the number of features for the weight vector\n",
    "    w = np.random.random(m).reshape(1, -1) # creating a vector of weights with random values\n",
    "    w_next, weight_evolution, grad = gradient_step(X, y, w, eta) # making the first step of gradient descent\n",
    "    step = 0\n",
    "    while weight_evolution > epsilon: # repeat until the weight vector converges\n",
    "        w = w_next\n",
    "        w_next, weight_evolution, grad = gradient_step(X, y, w, eta) # making another step\n",
    "        step += 1\n",
    "        if step % 100 ==0: # on each hundredth descent, we output the values of the change in the weight vector and the gradient\n",
    "            print(f'Step: {step} |w - w_next|= {weight_evolution}, gradient: {grad}')\n",
    "    print (f'total steps {step}')\n",
    "    return w"
   ]
  },
  {
   "cell_type": "code",
   "execution_count": 6,
   "metadata": {
    "ExecuteTime": {
     "end_time": "2021-03-23T22:46:23.048867Z",
     "start_time": "2021-03-23T22:46:22.961952Z"
    }
   },
   "outputs": [],
   "source": [
    "X = np.c_[np.ones(df.shape[0]), df.x_train.values]\n",
    "y = df.y_train.values.reshape(-1,1)"
   ]
  },
  {
   "cell_type": "code",
   "execution_count": 7,
   "metadata": {
    "ExecuteTime": {
     "end_time": "2021-03-23T22:46:23.255363Z",
     "start_time": "2021-03-23T22:46:23.055842Z"
    }
   },
   "outputs": [
    {
     "name": "stdout",
     "output_type": "stream",
     "text": [
      "Step: 100 |w - w_next|= 0.004284808813521439, gradient: [-0.41164862  0.1189171 ]\n",
      "Step: 200 |w - w_next|= 0.0033581995629489076, gradient: [-0.32262775  0.09320074]\n",
      "Step: 300 |w - w_next|= 0.0026319737461803086, gradient: [-0.25285804  0.07304566]\n",
      "Step: 400 |w - w_next|= 0.0020627975409834264, gradient: [-0.19817635  0.05724921]\n",
      "Step: 500 |w - w_next|= 0.001616708259822747, gradient: [-0.15531982  0.04486881]\n",
      "Step: 600 |w - w_next|= 0.001267087799675153, gradient: [-0.12173121  0.03516572]\n",
      "total steps 698\n"
     ]
    },
    {
     "data": {
      "text/plain": [
       "array([[ 2.5842448 , -0.56303895]])"
      ]
     },
     "execution_count": 7,
     "metadata": {},
     "output_type": "execute_result"
    }
   ],
   "source": [
    "w = gradient_descent(X, y, eta=0.01, epsilon=0.001)\n",
    "w"
   ]
  },
  {
   "cell_type": "code",
   "execution_count": 8,
   "metadata": {
    "ExecuteTime": {
     "end_time": "2021-03-23T22:46:23.542185Z",
     "start_time": "2021-03-23T22:46:23.261358Z"
    }
   },
   "outputs": [
    {
     "data": {
      "image/png": "[encoded data removed]",
      "text/plain": [
       "<Figure size 432x288 with 1 Axes>"
      ]
     },
     "metadata": {
      "needs_background": "light"
     },
     "output_type": "display_data"
    }
   ],
   "source": [
    "plt.scatter(df.x_train, df.y_train, 40, 'b', 'o')\n",
    "\n",
    "x_linspace = np.linspace(df.x_train.min(), df.x_train.max(), num=100)\n",
    "y_pred = np.c_[np.ones(x_linspace.shape[0]).reshape(-1,1), x_linspace.reshape(-1,1)].dot(w.T)\n",
    "\n",
    "plt.plot(x_linspace, y_pred, '--', color='red')\n",
    "plt.show()"
   ]
  },
  {
   "cell_type": "markdown",
   "metadata": {},
   "source": [
    "## Regularization"
   ]
  },
  {
   "cell_type": "markdown",
   "metadata": {},
   "source": [
    "We need to add $alpha$ parametr"
   ]
  },
  {
   "cell_type": "code",
   "execution_count": 9,
   "metadata": {
    "ExecuteTime": {
     "end_time": "2021-03-23T22:46:23.574164Z",
     "start_time": "2021-03-23T22:46:23.546181Z"
    }
   },
   "outputs": [],
   "source": [
    "def gradient_l2(X, y, w, alpha): # calculating the gradient\n",
    "    n = X.shape[0] # counting the number of elements in the training set\n",
    "    y_pred = X.dot(w.T) # find the predicted values\n",
    "    error = y - y_pred # calculatin the error\n",
    "    grad = np.multiply(X, error).sum(axis=0)*(-1.0)*2.0/n +(alpha*w*2.0)\n",
    "    # we calculate the gradient (by the formula above \n",
    "    # we multiply each of the coordinates by the error)\n",
    "    # and also add the regularization coefficient alpha multiplied by the vector of weights\n",
    "    return grad, error\n",
    "\n",
    "def gradient_step_l2(X, y, w_current, eta, alpha): #function that makes a step of gradient descent\n",
    "    grad, error = gradient_l2 (X, y, w_current, alpha) # counting the error and gradient\n",
    "    w_next = w_current - eta * grad #then we make a step of gradient descent\n",
    "    weight_evolution = distance.euclidean(w_current, w_next) # checking the Euclidean distance between the vectors\n",
    "    return (w_next, weight_evolution, grad)\n",
    "\n",
    "def gradient_descent_l2(X, y, eta=0.01, epsilon=0.0001, alpha=0.0):\n",
    "    m = X.shape[1] # counting the number of features for the weight vector\n",
    "    w = np.random.random(m).reshape(1, -1) # creating a vector of weights with random values\n",
    "    w_next, weight_evolution, grad = gradient_step_l2(X, y, w, eta, alpha) # making the first step of gradient descent\n",
    "    step = 0\n",
    "    while weight_evolution > epsilon: # repeat until the weight vector converges\n",
    "        w = w_next\n",
    "        w_next, weight_evolution, grad = gradient_step_l2(X, y, w, eta, alpha) # making another step\n",
    "        step += 1\n",
    "        if step % 100 ==0: # on each hundredth descent, we output the values of the change in the weight vector and the gradient\n",
    "            print(f'Step: {step} |w - w_next|= {weight_evolution}, gradient: {grad}')\n",
    "    print (f'total steps {step}')\n",
    "    return w"
   ]
  },
  {
   "cell_type": "code",
   "execution_count": 10,
   "metadata": {
    "ExecuteTime": {
     "end_time": "2021-03-23T22:46:23.748670Z",
     "start_time": "2021-03-23T22:46:23.579161Z"
    }
   },
   "outputs": [
    {
     "name": "stdout",
     "output_type": "stream",
     "text": [
      "Step: 100 |w - w_next|= 0.004815678208479104, gradient: [[-0.46265012  0.13365042]]\n",
      "Step: 200 |w - w_next|= 0.0034140924211309635, gradient: [[-0.32799747  0.09475194]]\n",
      "Step: 300 |w - w_next|= 0.002420433126013429, gradient: [[-0.23253499  0.06717473]]\n",
      "Step: 400 |w - w_next|= 0.0017159747876898041, gradient: [[-0.16485652  0.04762377]]\n",
      "Step: 500 |w - w_next|= 0.0012165465099367575, gradient: [[-0.11687562  0.03376304]]\n",
      "total steps 557\n"
     ]
    },
    {
     "data": {
      "text/plain": [
       "array([[ 1.84511119, -0.35031061]])"
      ]
     },
     "execution_count": 10,
     "metadata": {},
     "output_type": "execute_result"
    }
   ],
   "source": [
    "w_l = gradient_descent_l2(X, y, eta=0.01, epsilon=0.001, alpha=0.05)\n",
    "w_l"
   ]
  },
  {
   "cell_type": "code",
   "execution_count": 11,
   "metadata": {
    "ExecuteTime": {
     "end_time": "2021-03-23T22:46:24.146363Z",
     "start_time": "2021-03-23T22:46:23.753666Z"
    }
   },
   "outputs": [
    {
     "data": {
      "image/png": "[encoded data removed]",
      "text/plain": [
       "<Figure size 432x288 with 1 Axes>"
      ]
     },
     "metadata": {
      "needs_background": "light"
     },
     "output_type": "display_data"
    }
   ],
   "source": [
    "plt.scatter(df.x_train, df.y_train, 40, 'b', 'o')\n",
    "\n",
    "x_linspace = np.linspace(df.x_train.min(), df.x_train.max(), num=100)\n",
    "y_pred_l = np.c_[np.ones(x_linspace.shape[0]).reshape(-1,1), x_linspace.reshape(-1,1)].dot(w_l.T)\n",
    "\n",
    "plt.plot(x_linspace, y_pred_l, '--', color='red', label='with reg')\n",
    "plt.plot(x_linspace, y_pred, '-', color='green', label='without reg')\n",
    "plt.legend(loc='upper right')\n",
    "plt.show()"
   ]
  },
  {
   "cell_type": "code",
   "execution_count": null,
   "metadata": {},
   "outputs": [],
   "source": []
  }
 ],
 "metadata": {
  "kernelspec": {
   "display_name": "Python 3",
   "language": "python",
   "name": "python3"
  },
  "language_info": {
   "codemirror_mode": {
    "name": "ipython",
    "version": 3
   },
   "file_extension": ".py",
   "mimetype": "text/x-python",
   "name": "python",
   "nbconvert_exporter": "python",
   "pygments_lexer": "ipython3",
   "version": "3.8.3"
  }
 },
 "nbformat": 4,
 "nbformat_minor": 4
}
