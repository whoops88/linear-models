{
 "cells": [
  {
   "cell_type": "code",
   "execution_count": 1,
   "metadata": {
    "ExecuteTime": {
     "end_time": "2021-03-21T20:06:49.219454Z",
     "start_time": "2021-03-21T20:06:46.283872Z"
    }
   },
   "outputs": [],
   "source": [
    "import numpy as np\n",
    "import pandas as pd\n",
    "from sklearn.metrics import mean_squared_error\n",
    "from sklearn.model_selection import train_test_split\n",
    "from sklearn.linear_model import LinearRegression, Ridge\n",
    "import matplotlib.pyplot as plt\n",
    "%matplotlib inline"
   ]
  },
  {
   "cell_type": "code",
   "execution_count": 2,
   "metadata": {
    "ExecuteTime": {
     "end_time": "2021-03-21T20:06:49.250457Z",
     "start_time": "2021-03-21T20:06:49.224457Z"
    }
   },
   "outputs": [],
   "source": [
    "df = pd.read_csv('non_linear.csv')"
   ]
  },
  {
   "cell_type": "code",
   "execution_count": 3,
   "metadata": {
    "ExecuteTime": {
     "end_time": "2021-03-21T20:06:49.360254Z",
     "start_time": "2021-03-21T20:06:49.255459Z"
    }
   },
   "outputs": [
    {
     "data": {
      "text/html": [
       "<div>\n",
       "<style scoped>\n",
       "    .dataframe tbody tr th:only-of-type {\n",
       "        vertical-align: middle;\n",
       "    }\n",
       "\n",
       "    .dataframe tbody tr th {\n",
       "        vertical-align: top;\n",
       "    }\n",
       "\n",
       "    .dataframe thead th {\n",
       "        text-align: right;\n",
       "    }\n",
       "</style>\n",
       "<table border=\"1\" class=\"dataframe\">\n",
       "  <thead>\n",
       "    <tr style=\"text-align: right;\">\n",
       "      <th></th>\n",
       "      <th>x_train</th>\n",
       "      <th>y_train</th>\n",
       "    </tr>\n",
       "  </thead>\n",
       "  <tbody>\n",
       "    <tr>\n",
       "      <th>0</th>\n",
       "      <td>0.138368</td>\n",
       "      <td>0.838812</td>\n",
       "    </tr>\n",
       "    <tr>\n",
       "      <th>1</th>\n",
       "      <td>0.157237</td>\n",
       "      <td>0.889313</td>\n",
       "    </tr>\n",
       "    <tr>\n",
       "      <th>2</th>\n",
       "      <td>0.188684</td>\n",
       "      <td>1.430040</td>\n",
       "    </tr>\n",
       "    <tr>\n",
       "      <th>3</th>\n",
       "      <td>0.685553</td>\n",
       "      <td>1.717309</td>\n",
       "    </tr>\n",
       "    <tr>\n",
       "      <th>4</th>\n",
       "      <td>0.874237</td>\n",
       "      <td>2.032588</td>\n",
       "    </tr>\n",
       "  </tbody>\n",
       "</table>\n",
       "</div>"
      ],
      "text/plain": [
       "    x_train   y_train\n",
       "0  0.138368  0.838812\n",
       "1  0.157237  0.889313\n",
       "2  0.188684  1.430040\n",
       "3  0.685553  1.717309\n",
       "4  0.874237  2.032588"
      ]
     },
     "execution_count": 3,
     "metadata": {},
     "output_type": "execute_result"
    }
   ],
   "source": [
    "df.head()"
   ]
  },
  {
   "cell_type": "code",
   "execution_count": 4,
   "metadata": {
    "ExecuteTime": {
     "end_time": "2021-03-21T20:06:49.757827Z",
     "start_time": "2021-03-21T20:06:49.364253Z"
    }
   },
   "outputs": [
    {
     "data": {
      "image/png": "[encoded data removed]",
      "text/plain": [
       "<Figure size 432x288 with 1 Axes>"
      ]
     },
     "metadata": {
      "needs_background": "light"
     },
     "output_type": "display_data"
    }
   ],
   "source": [
    "plt.title('Data')\n",
    "plt.scatter(df.x_train, df.y_train,50, 'b', 'o')\n",
    "plt.show();"
   ]
  },
  {
   "cell_type": "markdown",
   "metadata": {},
   "source": [
    "# Linear Regression"
   ]
  },
  {
   "cell_type": "markdown",
   "metadata": {},
   "source": [
    "Analytical formula for finding the regression coefficients looks like\n",
    "\n",
    "$$\n",
    "\\overline{w} = \\left(X^TX\\right)^{-1}X^TY\n",
    "$$\n",
    "\n",
    "We get the model predictions using the regression coefficients in the form\n",
    "\n",
    "$$\n",
    "\\hat{y} = w_0x_0 + \\ldots w_nx_n\n",
    "$$"
   ]
  },
  {
   "cell_type": "code",
   "execution_count": 5,
   "metadata": {
    "ExecuteTime": {
     "end_time": "2021-03-21T20:06:49.788807Z",
     "start_time": "2021-03-21T20:06:49.765822Z"
    }
   },
   "outputs": [],
   "source": [
    "class SimpleLinearRegression:\n",
    "    \n",
    "    def __init__(self):\n",
    "        self.w = None\n",
    "                \n",
    "    def fit(self, X, y):\n",
    "        self.w = np.linalg.inv(X.T.dot(X)).dot(X.T).dot(y)\n",
    "        return 'fitted'\n",
    "    \n",
    "    def predict(self,X):\n",
    "        return X.dot(self.w)"
   ]
  },
  {
   "cell_type": "code",
   "execution_count": 6,
   "metadata": {
    "ExecuteTime": {
     "end_time": "2021-03-21T20:06:49.900848Z",
     "start_time": "2021-03-21T20:06:49.793805Z"
    }
   },
   "outputs": [],
   "source": [
    "def split_train_test(data, train_size=0.8):\n",
    "    X = data.iloc[:,0].values\n",
    "    # add constant feature\n",
    "    X = np.c_[X, np.ones(len(X))]\n",
    "    y = data.iloc[:,1].values\n",
    "    \n",
    "    indx = [i for i in range(data.shape[0])]\n",
    "    train_instances = int(train_size * data.shape[0])\n",
    "    np.random.shuffle(indx)\n",
    "    train_indx = indx[:train_instances]\n",
    "    test_indx = indx[train_instances:]\n",
    "    \n",
    "    X_train, y_train = X[(train_indx)], y[(train_indx)]\n",
    "    X_test, y_test = X[(test_indx)], y[(test_indx)]\n",
    "    \n",
    "    return X_train, X_test, y_train, y_test"
   ]
  },
  {
   "cell_type": "code",
   "execution_count": 7,
   "metadata": {
    "ExecuteTime": {
     "end_time": "2021-03-21T20:06:50.011811Z",
     "start_time": "2021-03-21T20:06:49.907822Z"
    }
   },
   "outputs": [],
   "source": [
    "X_train, X_test, y_train, y_test = split_train_test(df)"
   ]
  },
  {
   "cell_type": "code",
   "execution_count": 8,
   "metadata": {
    "ExecuteTime": {
     "end_time": "2021-03-21T20:06:50.137209Z",
     "start_time": "2021-03-21T20:06:50.016813Z"
    }
   },
   "outputs": [],
   "source": [
    "model = SimpleLinearRegression()\n",
    "model.fit(X_train, y_train)\n",
    "y_pred = model.predict(X_test)"
   ]
  },
  {
   "cell_type": "markdown",
   "metadata": {},
   "source": [
    "Mean squared error measures the average of the squares of the errors—that is, the average squared difference between the estimated values and the actual value.\n",
    "$$\n",
    "L(y,w) = \\sum_{i=1}^{N}\\left(y_i - \\hat{y_i}\\right)^2\n",
    "$$"
   ]
  },
  {
   "cell_type": "code",
   "execution_count": 9,
   "metadata": {
    "ExecuteTime": {
     "end_time": "2021-03-21T20:06:50.263690Z",
     "start_time": "2021-03-21T20:06:50.141205Z"
    }
   },
   "outputs": [],
   "source": [
    "def MSE(y_true, y_pred):\n",
    "    return np.average((y_true - y_pred)**2)"
   ]
  },
  {
   "cell_type": "code",
   "execution_count": 10,
   "metadata": {
    "ExecuteTime": {
     "end_time": "2021-03-21T20:06:50.436352Z",
     "start_time": "2021-03-21T20:06:50.267695Z"
    }
   },
   "outputs": [
    {
     "data": {
      "text/plain": [
       "0.4065411398717974"
      ]
     },
     "execution_count": 10,
     "metadata": {},
     "output_type": "execute_result"
    }
   ],
   "source": [
    "MSE(y_test, y_pred)"
   ]
  },
  {
   "cell_type": "code",
   "execution_count": 11,
   "metadata": {
    "ExecuteTime": {
     "end_time": "2021-03-21T20:06:50.576816Z",
     "start_time": "2021-03-21T20:06:50.443344Z"
    }
   },
   "outputs": [
    {
     "data": {
      "text/plain": [
       "array([-0.36594446,  2.02897493])"
      ]
     },
     "execution_count": 11,
     "metadata": {},
     "output_type": "execute_result"
    }
   ],
   "source": [
    "model.w"
   ]
  },
  {
   "cell_type": "markdown",
   "metadata": {},
   "source": [
    "$$\n",
    "\\|w\\|^2 = w_1^2+\\ldots+w_n^2\n",
    "$$\n",
    "To calculate this metric, we use function *norm* from *numpy*"
   ]
  },
  {
   "cell_type": "code",
   "execution_count": 12,
   "metadata": {
    "ExecuteTime": {
     "end_time": "2021-03-21T20:06:50.751944Z",
     "start_time": "2021-03-21T20:06:50.580791Z"
    }
   },
   "outputs": [
    {
     "data": {
      "text/plain": [
       "2.0617115783090934"
      ]
     },
     "execution_count": 12,
     "metadata": {},
     "output_type": "execute_result"
    }
   ],
   "source": [
    "np.linalg.norm(model.w)"
   ]
  },
  {
   "cell_type": "code",
   "execution_count": 13,
   "metadata": {
    "ExecuteTime": {
     "end_time": "2021-03-21T20:06:51.053290Z",
     "start_time": "2021-03-21T20:06:50.756938Z"
    }
   },
   "outputs": [
    {
     "data": {
      "image/png": "[encoded data removed]",
      "text/plain": [
       "<Figure size 432x288 with 1 Axes>"
      ]
     },
     "metadata": {
      "needs_background": "light"
     },
     "output_type": "display_data"
    }
   ],
   "source": [
    "# draw a graph\n",
    "xx = np.linspace(0,6, num=50)\n",
    "yy = model.w[0]*xx+ model.w[1]\n",
    "\n",
    "plt.title('Data')\n",
    "plt.plot(xx, yy,'r')\n",
    "plt.scatter(df.x_train, df.y_train,50, 'b', '*')\n",
    "plt.show();"
   ]
  },
  {
   "cell_type": "markdown",
   "metadata": {},
   "source": [
    "As we can see this model doesn't describe our data very well.\n",
    "\n",
    "Let's train a polynomial regression for different degrees of the polynomial: very large, very small, and medium\n",
    "\n",
    "In the case of training regression on a single feature, the module will take the form $y = w_0 + w_1x +w_2x^2 + \\ldots + w_nx^n$"
   ]
  },
  {
   "cell_type": "code",
   "execution_count": 14,
   "metadata": {
    "ExecuteTime": {
     "end_time": "2021-03-21T20:06:51.069282Z",
     "start_time": "2021-03-21T20:06:51.057291Z"
    }
   },
   "outputs": [],
   "source": [
    "# A function that takes a one-dimensional array as input and returns an n-dimensional array\n",
    "# For each degree from 1 to degree, we raise x to this degree\n",
    "def generate_degrees(data, degree):\n",
    "    return np.array([data**n for n in range(1, degree+1)]).T"
   ]
  },
  {
   "cell_type": "code",
   "execution_count": 15,
   "metadata": {
    "ExecuteTime": {
     "end_time": "2021-03-21T20:06:51.180167Z",
     "start_time": "2021-03-21T20:06:51.074277Z"
    }
   },
   "outputs": [],
   "source": [
    "def train_polynomial(data:np.array, degree:int):\n",
    "    \n",
    "    # Generating data\n",
    "    X = generate_degrees(data.iloc[:,0].values, degree)\n",
    "    y = data.iloc[:,1].values\n",
    "    # Split arrays into train and test sets\n",
    "    X_train, X_test, y_train, y_test = train_test_split(X, y, test_size=0.2, random_state=10)\n",
    "    #Training our model\n",
    "                                                        \n",
    "    model = LinearRegression()\n",
    "    model.fit(X_train, y_train)\n",
    "    y_pred = model.predict(X_test)\n",
    "    y_pred_train = model.predict(X_train)\n",
    "    error_test = mean_squared_error(y_test, y_pred)\n",
    "    error_train = mean_squared_error(y_train, y_pred_train)\n",
    "    \n",
    "    print(f'Polinom degree = {degree}\\nMSE_test = {error_test}\\nMSE_train = {error_train}\\n||w|| ={np.linalg.norm(model.coef_)}')\n",
    "    \n",
    "    # draw a graph\n",
    "    plt.scatter(X_test[:,0], y_test, 40, 'r', 'o', label='test')\n",
    "    plt.scatter(X_train[:,0], y_train, 40, 'b',  '*', label='train')\n",
    "    x_linspace = np.linspace(data.iloc[:,0].min(), data.iloc[:,0].max(), num=100)\n",
    "    y_linspace = model.predict(generate_degrees(x_linspace, degree))\n",
    "    plt.plot(x_linspace, y_linspace,'g', label='model')\n",
    "    plt.legend(loc='upper right')\n",
    "    plt.show();\n",
    "    return error_test, error_train, np.linalg.norm(model.coef_)\n",
    "\n",
    "degrees = []\n",
    "test_errors = []\n",
    "train_errors = []\n",
    "w_norm = []"
   ]
  },
  {
   "cell_type": "code",
   "execution_count": 16,
   "metadata": {
    "ExecuteTime": {
     "end_time": "2021-03-21T20:06:51.525072Z",
     "start_time": "2021-03-21T20:06:51.184171Z"
    }
   },
   "outputs": [
    {
     "name": "stdout",
     "output_type": "stream",
     "text": [
      "Polinom degree = 2\n",
      "MSE_test = 0.24497135044487545\n",
      "MSE_train = 0.31375697267592034\n",
      "||w|| =0.46569133707581395\n"
     ]
    },
    {
     "data": {
      "image/png": "[encoded data removed]",
      "text/plain": [
       "<Figure size 432x288 with 1 Axes>"
      ]
     },
     "metadata": {
      "needs_background": "light"
     },
     "output_type": "display_data"
    }
   ],
   "source": [
    "degree = 2\n",
    "\n",
    "error_test, error_train, coef_norm = train_polynomial(df, degree)\n",
    "\n",
    "degrees.append(degree)\n",
    "test_errors.append(error_test)\n",
    "train_errors.append(error_train)\n",
    "w_norm.append(coef_norm)"
   ]
  },
  {
   "cell_type": "code",
   "execution_count": 17,
   "metadata": {
    "ExecuteTime": {
     "end_time": "2021-03-21T20:06:51.810977Z",
     "start_time": "2021-03-21T20:06:51.530070Z"
    }
   },
   "outputs": [
    {
     "name": "stdout",
     "output_type": "stream",
     "text": [
      "Polinom degree = 3\n",
      "MSE_test = 0.050634419192062505\n",
      "MSE_train = 0.07744269978781704\n",
      "||w|| =2.1866817316351312\n"
     ]
    },
    {
     "data": {
      "image/png": "[encoded data removed]",
      "text/plain": [
       "<Figure size 432x288 with 1 Axes>"
      ]
     },
     "metadata": {
      "needs_background": "light"
     },
     "output_type": "display_data"
    }
   ],
   "source": [
    "degree = 3\n",
    "\n",
    "error_test, error_train, coef_norm = train_polynomial(df, degree)\n",
    "\n",
    "degrees.append(degree)\n",
    "test_errors.append(error_test)\n",
    "train_errors.append(error_train)\n",
    "w_norm.append(coef_norm)"
   ]
  },
  {
   "cell_type": "code",
   "execution_count": 18,
   "metadata": {
    "ExecuteTime": {
     "end_time": "2021-03-21T20:06:52.081813Z",
     "start_time": "2021-03-21T20:06:51.813975Z"
    }
   },
   "outputs": [
    {
     "name": "stdout",
     "output_type": "stream",
     "text": [
      "Polinom degree = 5\n",
      "MSE_test = 0.0627190869791066\n",
      "MSE_train = 0.06938399857231471\n",
      "||w|| =3.3093942900803737\n"
     ]
    },
    {
     "data": {
      "image/png": "[encoded data removed]",
      "text/plain": [
       "<Figure size 432x288 with 1 Axes>"
      ]
     },
     "metadata": {
      "needs_background": "light"
     },
     "output_type": "display_data"
    }
   ],
   "source": [
    "degree = 5\n",
    "\n",
    "error_test, error_train, coef_norm = train_polynomial(df, degree)\n",
    "\n",
    "degrees.append(degree)\n",
    "test_errors.append(error_test)\n",
    "train_errors.append(error_train)\n",
    "w_norm.append(coef_norm)"
   ]
  },
  {
   "cell_type": "code",
   "execution_count": 19,
   "metadata": {
    "ExecuteTime": {
     "end_time": "2021-03-21T20:06:52.353643Z",
     "start_time": "2021-03-21T20:06:52.086808Z"
    }
   },
   "outputs": [
    {
     "name": "stdout",
     "output_type": "stream",
     "text": [
      "Polinom degree = 10\n",
      "MSE_test = 0.12191892709947731\n",
      "MSE_train = 0.051885490503240594\n",
      "||w|| =120.14004844540838\n"
     ]
    },
    {
     "data": {
      "image/png": "[encoded data removed]",
      "text/plain": [
       "<Figure size 432x288 with 1 Axes>"
      ]
     },
     "metadata": {
      "needs_background": "light"
     },
     "output_type": "display_data"
    }
   ],
   "source": [
    "degree = 10\n",
    "\n",
    "error_test, error_train, coef_norm = train_polynomial(df, degree)\n",
    "\n",
    "degrees.append(degree)\n",
    "test_errors.append(error_test)\n",
    "train_errors.append(error_train)\n",
    "w_norm.append(coef_norm)"
   ]
  },
  {
   "cell_type": "code",
   "execution_count": 20,
   "metadata": {
    "ExecuteTime": {
     "end_time": "2021-03-21T20:06:52.670448Z",
     "start_time": "2021-03-21T20:06:52.357642Z"
    }
   },
   "outputs": [
    {
     "name": "stdout",
     "output_type": "stream",
     "text": [
      "Polinom degree = 12\n",
      "MSE_test = 0.12518617851059644\n",
      "MSE_train = 0.05112660391711561\n",
      "||w|| =225.50833959023254\n"
     ]
    },
    {
     "data": {
      "image/png": "[encoded data removed]",
      "text/plain": [
       "<Figure size 432x288 with 1 Axes>"
      ]
     },
     "metadata": {
      "needs_background": "light"
     },
     "output_type": "display_data"
    }
   ],
   "source": [
    "degree = 12\n",
    "\n",
    "error_test, error_train, coef_norm = train_polynomial(df, degree)\n",
    "\n",
    "degrees.append(degree)\n",
    "test_errors.append(error_test)\n",
    "train_errors.append(error_train)\n",
    "w_norm.append(coef_norm)"
   ]
  },
  {
   "cell_type": "code",
   "execution_count": 21,
   "metadata": {
    "ExecuteTime": {
     "end_time": "2021-03-21T20:06:52.941282Z",
     "start_time": "2021-03-21T20:06:52.674447Z"
    }
   },
   "outputs": [
    {
     "data": {
      "image/png": "[encoded data removed]",
      "text/plain": [
       "<Figure size 432x288 with 1 Axes>"
      ]
     },
     "metadata": {
      "needs_background": "light"
     },
     "output_type": "display_data"
    }
   ],
   "source": [
    "fig, ax = plt.subplots()\n",
    "ax.plot(degrees, test_errors, 'k--', label='Test error')\n",
    "ax.plot(degrees, train_errors, 'k:', label='Train error')\n",
    "\n",
    "legend = ax.legend(loc='upper center', shadow=True, fontsize='x-large')\n",
    "plt.xlabel('Degree')\n",
    "plt.ylabel('Error')\n",
    "plt.show()"
   ]
  },
  {
   "cell_type": "markdown",
   "metadata": {},
   "source": [
    "As we can see on the graph with increasing degree  the error in test begins to grow, and in training, on the contrary, it falls. At the same time the norm of the coefficient vector increases $w$ -  from $0.47$ to $225.5$. It means that our model is overfitted. Point where $degree = 5$ and where two error lines intersect is good enough for our model.\n",
    "The higher $\\|w\\|^2$ the strongere is overfitting. Therefore, by making the coefficients smaller, we will reduce overfitting. It's time to regularization!\n",
    "\n",
    "Analytical formula for finding new regression coefficients with regularization looks like\n",
    "$$\n",
    "\\overline{w} = \\left(X^TX + \\alpha E\\right)^{-1}X^TY\n",
    "$$\n",
    "\n",
    "Where $\\alpha$ is regularization parameter. It takes values from 0 to 1 : the closer to 1-the stronger the regularization, the more the linear regression weights decrease.\n",
    "\n",
    "$E$ unit matrix of dimension 𝑘×𝑘 (by the number of linear regression coefficients)\n",
    "\n",
    "$$\n",
    "E = \n",
    "\\left[\n",
    "\\begin{array}{ccccc}\n",
    "1 & 0 & \\ldots & 0 & 0 \\\\\n",
    "0 & 1 & \\ldots & 0 & 0 \\\\\n",
    "\\ldots& \\ldots& \\ldots& \\ldots& \\ldots \\\\\n",
    "0 & 0 & \\ldots & 1 & 0 \\\\\n",
    "0 & 0 & \\ldots & 0 & 1 \\\\\n",
    "\\end{array}\n",
    "\\right]\n",
    "$$"
   ]
  },
  {
   "cell_type": "code",
   "execution_count": 22,
   "metadata": {
    "ExecuteTime": {
     "end_time": "2021-03-21T20:06:52.973265Z",
     "start_time": "2021-03-21T20:06:52.951279Z"
    }
   },
   "outputs": [],
   "source": [
    "class LinearRegressionL2:\n",
    "    \n",
    "    def __init__(self, alpha=1):\n",
    "        self.alpha = alpha\n",
    "        self.w = None\n",
    "                \n",
    "    def fit(self, X, y):\n",
    "        self.w = np.linalg.inv(X.T.dot(X)+ self.alpha*np.eye(X.shape[1])).dot(X.T).dot(y)\n",
    "        return 'fitted'\n",
    "    \n",
    "    def predict(self,X):\n",
    "        return X.dot(self.w)"
   ]
  },
  {
   "cell_type": "code",
   "execution_count": 23,
   "metadata": {
    "ExecuteTime": {
     "end_time": "2021-03-21T20:06:53.100425Z",
     "start_time": "2021-03-21T20:06:52.978260Z"
    }
   },
   "outputs": [],
   "source": [
    "X = generate_degrees(df.iloc[:,0].values, 5)\n",
    "y = df.iloc[:,1].values"
   ]
  },
  {
   "cell_type": "code",
   "execution_count": 24,
   "metadata": {
    "ExecuteTime": {
     "end_time": "2021-03-21T20:06:53.240895Z",
     "start_time": "2021-03-21T20:06:53.104420Z"
    }
   },
   "outputs": [
    {
     "data": {
      "text/plain": [
       "array([ 1.73695613,  0.3048667 , -0.59245536,  0.14044158, -0.0095897 ])"
      ]
     },
     "execution_count": 24,
     "metadata": {},
     "output_type": "execute_result"
    }
   ],
   "source": [
    "model = LinearRegressionL2(alpha=0.9)\n",
    "model.fit(X,y)\n",
    "model.w"
   ]
  },
  {
   "cell_type": "code",
   "execution_count": 25,
   "metadata": {
    "ExecuteTime": {
     "end_time": "2021-03-21T20:06:53.351947Z",
     "start_time": "2021-03-21T20:06:53.244891Z"
    }
   },
   "outputs": [
    {
     "data": {
      "text/plain": [
       "array([ 1.73695613,  0.3048667 , -0.59245536,  0.14044158, -0.0095897 ])"
      ]
     },
     "execution_count": 25,
     "metadata": {},
     "output_type": "execute_result"
    }
   ],
   "source": [
    "model = Ridge(alpha=0.9, fit_intercept=False)\n",
    "model.fit(X,y)\n",
    "model.coef_"
   ]
  },
  {
   "cell_type": "code",
   "execution_count": 26,
   "metadata": {
    "ExecuteTime": {
     "end_time": "2021-03-21T20:06:53.463211Z",
     "start_time": "2021-03-21T20:06:53.360937Z"
    }
   },
   "outputs": [],
   "source": [
    "def polynom_regularization(data:np.array, degree:int, alpha:float):\n",
    "    X = generate_degrees(df.iloc[:,0].values, degree)\n",
    "    y = df.iloc[:,1].values\n",
    "    \n",
    "    model=Ridge(alpha=alpha)\n",
    "    model.fit(X, y)\n",
    "              \n",
    "    print(f'||w||={np.linalg.norm(model.coef_)} alpha = {alpha}')\n",
    "    plt.scatter(X[:,0], y, 40, 'b',  '*')\n",
    "    x_linspace = np.linspace(data.iloc[:,0].min(), data.iloc[:,0].max(), num=100)\n",
    "    y_linspace = model.predict(generate_degrees(x_linspace, degree))\n",
    "    plt.plot(x_linspace, y_linspace, label=f'alpha = {alpha}')\n",
    "    plt.legend(loc='upper right')"
   ]
  },
  {
   "cell_type": "code",
   "execution_count": 27,
   "metadata": {
    "ExecuteTime": {
     "end_time": "2021-03-21T20:06:53.971111Z",
     "start_time": "2021-03-21T20:06:53.468212Z"
    }
   },
   "outputs": [
    {
     "name": "stdout",
     "output_type": "stream",
     "text": [
      "||w||=0.8028328196731191 alpha = 1\n",
      "||w||=0.9503298028556212 alpha = 0.5\n",
      "||w||=3.139392806692482 alpha = 0.001\n"
     ]
    },
    {
     "data": {
      "image/png": "[encoded data removed]",
      "text/plain": [
       "<Figure size 432x288 with 1 Axes>"
      ]
     },
     "metadata": {
      "needs_background": "light"
     },
     "output_type": "display_data"
    }
   ],
   "source": [
    "polynom_regularization(df, 5, 1)\n",
    "polynom_regularization(df, 5, 0.5)\n",
    "polynom_regularization(df, 5, 0.001)"
   ]
  },
  {
   "cell_type": "code",
   "execution_count": null,
   "metadata": {},
   "outputs": [],
   "source": []
  }
 ],
 "metadata": {
  "kernelspec": {
   "display_name": "Python 3",
   "language": "python",
   "name": "python3"
  },
  "language_info": {
   "codemirror_mode": {
    "name": "ipython",
    "version": 3
   },
   "file_extension": ".py",
   "mimetype": "text/x-python",
   "name": "python",
   "nbconvert_exporter": "python",
   "pygments_lexer": "ipython3",
   "version": "3.8.3"
  }
 },
 "nbformat": 4,
 "nbformat_minor": 4
}
